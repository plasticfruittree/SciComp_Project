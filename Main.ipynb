{
 "cells": [
  {
   "cell_type": "markdown",
   "metadata": {
    "collapsed": true,
    "pycharm": {
     "name": "#%% md\n"
    }
   },
   "source": [
    "# Inspecting the Raw Data Set\n",
    "\n",
    "This is credit modeling project. Fit and predict one's income based on various indicators\n",
    "\n",
    "## Importing the dataset\n",
    "[Dataset Here](https://datahub.io/machine-learning/adult#resource-adult)\n",
    "[About the Dataset](https://archive.ics.uci.edu/ml/datasets/Adult)\n",
    "Please store in the same working director as your jupyter notebook.\n"
   ]
  },
  {
   "cell_type": "code",
   "execution_count": 66,
   "outputs": [],
   "source": [
    "import pandas as pd\n",
    "import seaborn as sns\n",
    "import statsmodels.api as sm"
   ],
   "metadata": {
    "collapsed": false,
    "pycharm": {
     "name": "#%%\n"
    }
   }
  },
  {
   "cell_type": "code",
   "execution_count": 67,
   "outputs": [],
   "source": [
    "# seaborn custom paramenters for uniformity\n",
    "from matplotlib import rcParams\n",
    "import matplotlib.pyplot as plt\n",
    "import matplotlib as mpl"
   ],
   "metadata": {
    "collapsed": false,
    "pycharm": {
     "name": "#%%\n"
    }
   }
  },
  {
   "cell_type": "markdown",
   "source": [
    "## Columns/Features of Dataset"
   ],
   "metadata": {
    "collapsed": false
   }
  },
  {
   "cell_type": "code",
   "execution_count": 68,
   "outputs": [
    {
     "name": "stdout",
     "output_type": "stream",
     "text": [
      "Number of columns: 15 \n",
      " ['age', 'workclass', 'fnlwgt', 'education', 'education-num', 'marital-status', 'occupation', 'relationship', 'race', 'sex', 'capitalgain', 'capitalloss', 'hoursperweek', 'native-country', 'class']\n"
     ]
    }
   ],
   "source": [
    "# import the file path and import csv to dataframe\n",
    "file = 'adult.csv'\n",
    "df = pd.read_csv(file)\n",
    "\n",
    "# get the column names and count\n",
    "columns = df.columns; columns_list= columns.tolist()\n",
    "num_columns = columns.nunique(); print(\"Number of columns:\", num_columns, \"\\n\", columns_list)"
   ],
   "metadata": {
    "collapsed": false,
    "pycharm": {
     "name": "#%%\n"
    }
   }
  },
  {
   "cell_type": "markdown",
   "source": [
    "## Dataset Metadata"
   ],
   "metadata": {
    "collapsed": false
   }
  },
  {
   "cell_type": "code",
   "execution_count": 69,
   "outputs": [
    {
     "name": "stdout",
     "output_type": "stream",
     "text": [
      "<class 'pandas.core.frame.DataFrame'>\n",
      "RangeIndex: 48842 entries, 0 to 48841\n",
      "Data columns (total 15 columns):\n",
      " #   Column          Non-Null Count  Dtype \n",
      "---  ------          --------------  ----- \n",
      " 0   age             48842 non-null  int64 \n",
      " 1   workclass       46043 non-null  object\n",
      " 2   fnlwgt          48842 non-null  int64 \n",
      " 3   education       48842 non-null  object\n",
      " 4   education-num   48842 non-null  int64 \n",
      " 5   marital-status  48842 non-null  object\n",
      " 6   occupation      46033 non-null  object\n",
      " 7   relationship    48842 non-null  object\n",
      " 8   race            48842 non-null  object\n",
      " 9   sex             48842 non-null  object\n",
      " 10  capitalgain     48842 non-null  int64 \n",
      " 11  capitalloss     48842 non-null  int64 \n",
      " 12  hoursperweek    48842 non-null  int64 \n",
      " 13  native-country  47985 non-null  object\n",
      " 14  class           48842 non-null  object\n",
      "dtypes: int64(6), object(9)\n",
      "memory usage: 5.6+ MB\n",
      "None\n"
     ]
    }
   ],
   "source": [
    "print(df.info())"
   ],
   "metadata": {
    "collapsed": false,
    "pycharm": {
     "name": "#%%\n"
    }
   }
  },
  {
   "cell_type": "markdown",
   "source": [
    "## Column Overviews"
   ],
   "metadata": {
    "collapsed": false
   }
  },
  {
   "cell_type": "code",
   "execution_count": 70,
   "outputs": [
    {
     "name": "stdout",
     "output_type": "stream",
     "text": [
      "age\n",
      "[2 3 1 0 4] \n",
      "\n",
      "workclass\n",
      "['State-gov' 'Self-emp-not-inc' 'Private' 'Federal-gov' 'Local-gov' nan\n",
      " 'Self-emp-inc' 'Without-pay' 'Never-worked'] \n",
      "\n",
      "fnlwgt\n",
      "[ 77516  83311 215646 ... 173449  89686 350977] \n",
      "\n",
      "education\n",
      "['Bachelors' 'HS-grad' '11th' 'Masters' '9th' 'Some-college' 'Assoc-acdm'\n",
      " 'Assoc-voc' '7th-8th' 'Doctorate' 'Prof-school' '5th-6th' '10th'\n",
      " '1st-4th' 'Preschool' '12th'] \n",
      "\n",
      "education-num\n",
      "[13  9  7 14  5 10 12 11  4 16 15  3  6  2  1  8] \n",
      "\n",
      "marital-status\n",
      "['Never-married' 'Married-civ-spouse' 'Divorced' 'Married-spouse-absent'\n",
      " 'Separated' 'Married-AF-spouse' 'Widowed'] \n",
      "\n",
      "occupation\n",
      "['Adm-clerical' 'Exec-managerial' 'Handlers-cleaners' 'Prof-specialty'\n",
      " 'Other-service' 'Sales' 'Craft-repair' 'Transport-moving'\n",
      " 'Farming-fishing' 'Machine-op-inspct' 'Tech-support' nan\n",
      " 'Protective-serv' 'Armed-Forces' 'Priv-house-serv'] \n",
      "\n",
      "relationship\n",
      "['Not-in-family' 'Husband' 'Wife' 'Own-child' 'Unmarried' 'Other-relative'] \n",
      "\n",
      "race\n",
      "['White' 'Black' 'Asian-Pac-Islander' 'Amer-Indian-Eskimo' 'Other'] \n",
      "\n",
      "sex\n",
      "['Male' 'Female'] \n",
      "\n",
      "capitalgain\n",
      "[1 0 4 2 3] \n",
      "\n",
      "capitalloss\n",
      "[0 3 1 2 4] \n",
      "\n",
      "hoursperweek\n",
      "[2 0 3 4 1] \n",
      "\n",
      "native-country\n",
      "['United-States' 'Cuba' 'Jamaica' 'India' nan 'Mexico' 'South'\n",
      " 'Puerto-Rico' 'Honduras' 'England' 'Canada' 'Germany' 'Iran'\n",
      " 'Philippines' 'Italy' 'Poland' 'Columbia' 'Cambodia' 'Thailand' 'Ecuador'\n",
      " 'Laos' 'Taiwan' 'Haiti' 'Portugal' 'Dominican-Republic' 'El-Salvador'\n",
      " 'France' 'Guatemala' 'China' 'Japan' 'Yugoslavia' 'Peru'\n",
      " 'Outlying-US(Guam-USVI-etc)' 'Scotland' 'Trinadad&Tobago' 'Greece'\n",
      " 'Nicaragua' 'Vietnam' 'Hong' 'Ireland' 'Hungary' 'Holand-Netherlands'] \n",
      "\n",
      "class\n",
      "['<=50K' '>50K'] \n",
      "\n"
     ]
    }
   ],
   "source": [
    "for x in columns_list:\n",
    "    print(x) # print column name\n",
    "    variable_categories = df[x].unique(); print(variable_categories, \"\\n\")"
   ],
   "metadata": {
    "collapsed": false,
    "pycharm": {
     "name": "#%%\n"
    }
   }
  },
  {
   "cell_type": "markdown",
   "source": [
    "# Data Processing and Cleaning"
   ],
   "metadata": {
    "collapsed": false
   }
  },
  {
   "cell_type": "markdown",
   "source": [
    "## Drop Discriminatory Factors: Sex, Race, and Native Country"
   ],
   "metadata": {
    "collapsed": false
   }
  },
  {
   "cell_type": "code",
   "execution_count": 71,
   "outputs": [
    {
     "data": {
      "text/plain": "   age         workclass  fnlwgt  education  education-num  \\\n0    2         State-gov   77516  Bachelors             13   \n1    3  Self-emp-not-inc   83311  Bachelors             13   \n2    2           Private  215646    HS-grad              9   \n3    3           Private  234721       11th              7   \n4    1           Private  338409  Bachelors             13   \n\n       marital-status         occupation   relationship  capitalgain  \\\n0       Never-married       Adm-clerical  Not-in-family            1   \n1  Married-civ-spouse    Exec-managerial        Husband            0   \n2            Divorced  Handlers-cleaners  Not-in-family            0   \n3  Married-civ-spouse  Handlers-cleaners        Husband            0   \n4  Married-civ-spouse     Prof-specialty           Wife            0   \n\n   capitalloss  hoursperweek  class  \n0            0             2  <=50K  \n1            0             0  <=50K  \n2            0             2  <=50K  \n3            0             2  <=50K  \n4            0             2  <=50K  ",
      "text/html": "<div>\n<style scoped>\n    .dataframe tbody tr th:only-of-type {\n        vertical-align: middle;\n    }\n\n    .dataframe tbody tr th {\n        vertical-align: top;\n    }\n\n    .dataframe thead th {\n        text-align: right;\n    }\n</style>\n<table border=\"1\" class=\"dataframe\">\n  <thead>\n    <tr style=\"text-align: right;\">\n      <th></th>\n      <th>age</th>\n      <th>workclass</th>\n      <th>fnlwgt</th>\n      <th>education</th>\n      <th>education-num</th>\n      <th>marital-status</th>\n      <th>occupation</th>\n      <th>relationship</th>\n      <th>capitalgain</th>\n      <th>capitalloss</th>\n      <th>hoursperweek</th>\n      <th>class</th>\n    </tr>\n  </thead>\n  <tbody>\n    <tr>\n      <th>0</th>\n      <td>2</td>\n      <td>State-gov</td>\n      <td>77516</td>\n      <td>Bachelors</td>\n      <td>13</td>\n      <td>Never-married</td>\n      <td>Adm-clerical</td>\n      <td>Not-in-family</td>\n      <td>1</td>\n      <td>0</td>\n      <td>2</td>\n      <td>&lt;=50K</td>\n    </tr>\n    <tr>\n      <th>1</th>\n      <td>3</td>\n      <td>Self-emp-not-inc</td>\n      <td>83311</td>\n      <td>Bachelors</td>\n      <td>13</td>\n      <td>Married-civ-spouse</td>\n      <td>Exec-managerial</td>\n      <td>Husband</td>\n      <td>0</td>\n      <td>0</td>\n      <td>0</td>\n      <td>&lt;=50K</td>\n    </tr>\n    <tr>\n      <th>2</th>\n      <td>2</td>\n      <td>Private</td>\n      <td>215646</td>\n      <td>HS-grad</td>\n      <td>9</td>\n      <td>Divorced</td>\n      <td>Handlers-cleaners</td>\n      <td>Not-in-family</td>\n      <td>0</td>\n      <td>0</td>\n      <td>2</td>\n      <td>&lt;=50K</td>\n    </tr>\n    <tr>\n      <th>3</th>\n      <td>3</td>\n      <td>Private</td>\n      <td>234721</td>\n      <td>11th</td>\n      <td>7</td>\n      <td>Married-civ-spouse</td>\n      <td>Handlers-cleaners</td>\n      <td>Husband</td>\n      <td>0</td>\n      <td>0</td>\n      <td>2</td>\n      <td>&lt;=50K</td>\n    </tr>\n    <tr>\n      <th>4</th>\n      <td>1</td>\n      <td>Private</td>\n      <td>338409</td>\n      <td>Bachelors</td>\n      <td>13</td>\n      <td>Married-civ-spouse</td>\n      <td>Prof-specialty</td>\n      <td>Wife</td>\n      <td>0</td>\n      <td>0</td>\n      <td>2</td>\n      <td>&lt;=50K</td>\n    </tr>\n  </tbody>\n</table>\n</div>"
     },
     "execution_count": 71,
     "metadata": {},
     "output_type": "execute_result"
    }
   ],
   "source": [
    "df_NonDecriminatory = df.drop(columns=['race', 'sex', 'native-country'])\n",
    "df_NonDecriminatory.head()"
   ],
   "metadata": {
    "collapsed": false,
    "pycharm": {
     "name": "#%%\n"
    }
   }
  },
  {
   "cell_type": "markdown",
   "source": [
    "## Drop unexplainable feature: fnlwgt, final weight"
   ],
   "metadata": {
    "collapsed": false
   }
  },
  {
   "cell_type": "code",
   "execution_count": 72,
   "outputs": [
    {
     "data": {
      "text/plain": "   age         workclass  education  education-num      marital-status  \\\n0    2         State-gov  Bachelors             13       Never-married   \n1    3  Self-emp-not-inc  Bachelors             13  Married-civ-spouse   \n2    2           Private    HS-grad              9            Divorced   \n3    3           Private       11th              7  Married-civ-spouse   \n4    1           Private  Bachelors             13  Married-civ-spouse   \n\n          occupation   relationship  capitalgain  capitalloss  hoursperweek  \\\n0       Adm-clerical  Not-in-family            1            0             2   \n1    Exec-managerial        Husband            0            0             0   \n2  Handlers-cleaners  Not-in-family            0            0             2   \n3  Handlers-cleaners        Husband            0            0             2   \n4     Prof-specialty           Wife            0            0             2   \n\n   class  \n0  <=50K  \n1  <=50K  \n2  <=50K  \n3  <=50K  \n4  <=50K  ",
      "text/html": "<div>\n<style scoped>\n    .dataframe tbody tr th:only-of-type {\n        vertical-align: middle;\n    }\n\n    .dataframe tbody tr th {\n        vertical-align: top;\n    }\n\n    .dataframe thead th {\n        text-align: right;\n    }\n</style>\n<table border=\"1\" class=\"dataframe\">\n  <thead>\n    <tr style=\"text-align: right;\">\n      <th></th>\n      <th>age</th>\n      <th>workclass</th>\n      <th>education</th>\n      <th>education-num</th>\n      <th>marital-status</th>\n      <th>occupation</th>\n      <th>relationship</th>\n      <th>capitalgain</th>\n      <th>capitalloss</th>\n      <th>hoursperweek</th>\n      <th>class</th>\n    </tr>\n  </thead>\n  <tbody>\n    <tr>\n      <th>0</th>\n      <td>2</td>\n      <td>State-gov</td>\n      <td>Bachelors</td>\n      <td>13</td>\n      <td>Never-married</td>\n      <td>Adm-clerical</td>\n      <td>Not-in-family</td>\n      <td>1</td>\n      <td>0</td>\n      <td>2</td>\n      <td>&lt;=50K</td>\n    </tr>\n    <tr>\n      <th>1</th>\n      <td>3</td>\n      <td>Self-emp-not-inc</td>\n      <td>Bachelors</td>\n      <td>13</td>\n      <td>Married-civ-spouse</td>\n      <td>Exec-managerial</td>\n      <td>Husband</td>\n      <td>0</td>\n      <td>0</td>\n      <td>0</td>\n      <td>&lt;=50K</td>\n    </tr>\n    <tr>\n      <th>2</th>\n      <td>2</td>\n      <td>Private</td>\n      <td>HS-grad</td>\n      <td>9</td>\n      <td>Divorced</td>\n      <td>Handlers-cleaners</td>\n      <td>Not-in-family</td>\n      <td>0</td>\n      <td>0</td>\n      <td>2</td>\n      <td>&lt;=50K</td>\n    </tr>\n    <tr>\n      <th>3</th>\n      <td>3</td>\n      <td>Private</td>\n      <td>11th</td>\n      <td>7</td>\n      <td>Married-civ-spouse</td>\n      <td>Handlers-cleaners</td>\n      <td>Husband</td>\n      <td>0</td>\n      <td>0</td>\n      <td>2</td>\n      <td>&lt;=50K</td>\n    </tr>\n    <tr>\n      <th>4</th>\n      <td>1</td>\n      <td>Private</td>\n      <td>Bachelors</td>\n      <td>13</td>\n      <td>Married-civ-spouse</td>\n      <td>Prof-specialty</td>\n      <td>Wife</td>\n      <td>0</td>\n      <td>0</td>\n      <td>2</td>\n      <td>&lt;=50K</td>\n    </tr>\n  </tbody>\n</table>\n</div>"
     },
     "execution_count": 72,
     "metadata": {},
     "output_type": "execute_result"
    }
   ],
   "source": [
    "df_rm_fnlwgt = df_NonDecriminatory.drop(columns=['fnlwgt'])\n",
    "df_rm_fnlwgt.head()"
   ],
   "metadata": {
    "collapsed": false,
    "pycharm": {
     "name": "#%%\n"
    }
   }
  },
  {
   "cell_type": "markdown",
   "source": [
    "# Qualitative Analysis of Features (Variables)"
   ],
   "metadata": {
    "collapsed": false
   }
  },
  {
   "cell_type": "markdown",
   "source": [
    "## Base Dataset after dropping discussed columns\n",
    "\n",
    "Use df_main for all further visualizations"
   ],
   "metadata": {
    "collapsed": false
   }
  },
  {
   "cell_type": "code",
   "execution_count": 73,
   "outputs": [],
   "source": [
    "del df_NonDecriminatory\n",
    "df_main = df_rm_fnlwgt"
   ],
   "metadata": {
    "collapsed": false,
    "pycharm": {
     "name": "#%%\n"
    }
   }
  },
  {
   "cell_type": "markdown",
   "source": [
    "#### Sector and Pay:\n",
    "The people in the dataset make less than $50k a year with a majority or responses working in the private sector. Upon closer inspection of \"workclass\", there is a category of never worked"
   ],
   "metadata": {
    "collapsed": false
   }
  },
  {
   "cell_type": "code",
   "execution_count": 74,
   "outputs": [
    {
     "data": {
      "text/plain": "<Figure size 1080x576 with 1 Axes>",
      "image/png": "[encoded data removed]"
     },
     "metadata": {},
     "output_type": "display_data"
    }
   ],
   "source": [
    "# count the amount of class label amount, final figure\n",
    "\n",
    "fig_class_count = sns.countplot(data = df_main, x = 'class', palette = 'husl')\n",
    "# aesthetics\n",
    "rcParams['figure.figsize'] = 9,9 # set plot size\n",
    "\n",
    "fig_class_count.set_title(\"Number of Class Labels\", fontsize = 16)\n",
    "fig_class_count.set_xlabel(\"Class\", fontsize = 14)\n",
    "fig_class_count.set_ylabel(\"Frequency\", fontsize = 14)\n",
    "plt.savefig(\"classcount.png\")"
   ],
   "metadata": {
    "collapsed": false,
    "pycharm": {
     "name": "#%%\n"
    }
   }
  },
  {
   "cell_type": "code",
   "execution_count": 78,
   "outputs": [
    {
     "data": {
      "text/plain": "[Text(0.5, 1.0, 'Number of Working Sectors')]"
     },
     "execution_count": 78,
     "metadata": {},
     "output_type": "execute_result"
    },
    {
     "data": {
      "text/plain": "<Figure size 648x648 with 1 Axes>",
      "image/png": "[encoded data removed]"
     },
     "metadata": {},
     "output_type": "display_data"
    },
    {
     "data": {
      "text/plain": "<Figure size 648x648 with 1 Axes>",
      "image/png": "[encoded data removed]"
     },
     "metadata": {},
     "output_type": "display_data"
    }
   ],
   "source": [
    "plt.figure(2)\n",
    "ax1 = sns.countplot(x=\"class\", data = df_main, hue = \"workclass\", palette = 'husl')\n",
    "ax1.set(title = \"Income Based on Working Class\")\n",
    "ax1.set_xlabel(\"Class\")\n",
    "\n",
    "# sector dataframes\n",
    "government_sector = df_main[(df_main[\"workclass\"] == 'State-gov') | (df_main[\"workclass\"] == 'Federal-gov') | (df_main[\"workclass\"] == 'Local-gov')]\n",
    "private_sector = df_main[(df_main[\"workclass\"] == 'Self-emp-not-inc') | (df_main[\"workclass\"] == 'Private') | (df_main[\"workclass\"] == 'Self-emp-inc')]\n",
    "no_pay = df_main[(df_main[\"workclass\"] == 'Without-pay') | (df_main[\"workclass\"] == 'Never-worked')]\n",
    "\n",
    "# create another dataframe to show the the relationship between sector pay\n",
    "sector_data = {'Sector' : [\"Government\", \"Private\", \"No-pay\"],'Count': [len(government_sector), len(private_sector), len(no_pay)] }\n",
    "sector_df = pd.DataFrame(data=sector_data)\n",
    "plt.figure(3)\n",
    "ax2 = sns.barplot(x=\"Sector\",y= \"Count\",  data = sector_df, palette = 'husl')\n",
    "ax2.set(title = \"Number of Working Sectors\")"
   ],
   "metadata": {
    "collapsed": false,
    "pycharm": {
     "name": "#%%\n"
    }
   }
  },
  {
   "cell_type": "markdown",
   "source": [
    "#### Education and Income"
   ],
   "metadata": {
    "collapsed": false
   }
  },
  {
   "cell_type": "code",
   "execution_count": null,
   "outputs": [],
   "source": [
    "rcParams['figure.figsize'] = 15,8\n",
    "sns.set_theme(style = \"darkgrid\")\n",
    "sns.countplot(x=\"class\", data = df_main, hue = \"education\", palette= \"husl\")"
   ],
   "metadata": {
    "collapsed": false,
    "pycharm": {
     "name": "#%%\n"
    }
   }
  },
  {
   "cell_type": "markdown",
   "source": [
    "## Siyayi Block"
   ],
   "metadata": {
    "collapsed": false
   }
  },
  {
   "cell_type": "code",
   "execution_count": null,
   "outputs": [],
   "source": [
    "plt.figure(5)\n",
    "sns.countplot(x=\"class\", data = df_main, hue = \"capitalgain\", palette= \"husl\")\n",
    "plt.figure(6)\n",
    "sns.countplot(x=\"class\", data = df_main, hue = \"capitalloss\", palette= \"husl\")\n",
    "plt.figure(7)\n",
    "sns.countplot(x=\"class\", data = df_main, hue = \"relationship\", palette= \"husl\")"
   ],
   "metadata": {
    "collapsed": false,
    "pycharm": {
     "name": "#%%\n"
    }
   }
  },
  {
   "cell_type": "code",
   "execution_count": null,
   "outputs": [],
   "source": [
    "# create a new dataframe\n",
    "private_workclass = df_main[df['workclass'] == 'Private'] # syntax which is logically equivalent to use a dataframe, selecting a column from data frame and filtering the value\n",
    "private_workclass.head()\n",
    "sns.countplot(x=\"class\", data = private_workclass, hue = \"occupation\", palette= \"husl\")"
   ],
   "metadata": {
    "collapsed": false,
    "pycharm": {
     "name": "#%%\n"
    }
   }
  },
  {
   "cell_type": "code",
   "execution_count": null,
   "outputs": [],
   "source": [],
   "metadata": {
    "collapsed": false,
    "pycharm": {
     "name": "#%%\n"
    }
   }
  },
  {
   "cell_type": "code",
   "execution_count": null,
   "outputs": [],
   "source": [
    "df3 = df # start with raw df\n",
    "\n",
    "afford_captial = df3[(df3['capitalgain'] != 0) | (df3['capitalloss'] != 0) ] #captialgain\n",
    "\n",
    "plt.figure(1)\n",
    "sns.countplot(x = \"class\", data = afford_captial, hue = 'capitalgain', palette = 'husl')\n",
    "plt.title(\"Capital Gains Frequency Distribution\")\n",
    "plt.figure(2)\n",
    "sns.countplot(x = \"class\", data = afford_captial, hue = 'capitalloss', palette = 'husl')#plotting capital gains and loss"
   ],
   "metadata": {
    "collapsed": false,
    "pycharm": {
     "name": "#%%\n"
    }
   }
  },
  {
   "cell_type": "markdown",
   "source": [
    "## Will's Block"
   ],
   "metadata": {
    "collapsed": false
   }
  },
  {
   "cell_type": "code",
   "source": [
    "selfemployed_inc = df_main[df['workclass'] == 'Self-emp-inc']\n",
    "selfemployed_notinc = df_main[df['workclass'] == 'Self-emp-not-inc']\n",
    "selfemployed_total = selfemployed_inc.append(selfemployed_notinc)\n",
    "p = selfemployed_notinc.head()\n",
    "print(p)\n",
    "\n",
    "sns.countplot(x = \"class\", data = selfemployed_total, hue = \"education\", palette = 'husl')\n",
    "#combining all selfemployed and visualizing their education"
   ],
   "metadata": {
    "collapsed": false,
    "pycharm": {
     "name": "#%%\n"
    }
   },
   "execution_count": null,
   "outputs": []
  },
  {
   "cell_type": "markdown",
   "source": [
    "## Data Cleaning and Combining\n",
    "\n",
    "### Capital Gains and Capitals Loss vs Class\n",
    "\n",
    "### Private Workforce: Employed vs Self Employed\n",
    "\n",
    "### Education Categories:\n",
    "* Did not graduate high school\n",
    "* Some college\n",
    "* Associate Voca and Associate Adcm\n",
    "* Bachelors\n",
    "* Masters and Doctors\n",
    "* Professional School"
   ],
   "metadata": {
    "collapsed": false
   }
  },
  {
   "cell_type": "code",
   "execution_count": null,
   "outputs": [],
   "source": [],
   "metadata": {
    "collapsed": false,
    "pycharm": {
     "name": "#%%\n"
    }
   }
  }
 ],
 "metadata": {
  "kernelspec": {
   "display_name": "Python 3",
   "language": "python",
   "name": "python3"
  },
  "language_info": {
   "codemirror_mode": {
    "name": "ipython",
    "version": 2
   },
   "file_extension": ".py",
   "mimetype": "text/x-python",
   "name": "python",
   "nbconvert_exporter": "python",
   "pygments_lexer": "ipython2",
   "version": "2.7.6"
  }
 },
 "nbformat": 4,
 "nbformat_minor": 0
}