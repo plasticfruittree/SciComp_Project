{
 "cells": [
  {
   "cell_type": "markdown",
   "metadata": {
    "collapsed": true,
    "pycharm": {
     "name": "#%% md\n"
    }
   },
   "source": [
    "# Income Classification Project\n",
    "\n",
    "This is credit modeling project. Fit and predict one's income based on various indicators\n",
    "\n",
    "## Importing the dataset\n",
    "[Dataset Here](https://datahub.io/machine-learning/adult#resource-adult)\n",
    "[About the Dataset](https://archive.ics.uci.edu/ml/datasets/Adult)\n",
    "Please store in the same working director as your jupyter notebook.\n"
   ]
  },
  {
   "cell_type": "code",
   "execution_count": 25,
   "metadata": {
    "pycharm": {
     "name": "#%%\n"
    }
   },
   "outputs": [],
   "source": [
    "import pandas as pd\n",
    "import seaborn as sns\n",
    "import statsmodels.api as sm"
   ]
  },
  {
   "cell_type": "code",
   "execution_count": 26,
   "metadata": {
    "pycharm": {
     "name": "#%%\n"
    }
   },
   "outputs": [],
   "source": [
    "# seaborn custom paramenters for uniformity\n",
    "from matplotlib import rcParams\n",
    "import matplotlib.pyplot as plt\n",
    "import matplotlib as mpl"
   ]
  },
  {
   "cell_type": "markdown",
   "metadata": {
    "pycharm": {
     "name": "#%% md\n"
    }
   },
   "source": [
    "## Columns/Features of Dataset"
   ]
  },
  {
   "cell_type": "code",
   "execution_count": 53,
   "metadata": {
    "pycharm": {
     "name": "#%%\n"
    }
   },
   "outputs": [
    {
     "name": "stdout",
     "output_type": "stream",
     "text": [
      "<class 'pandas.core.frame.DataFrame'>\n",
      "RangeIndex: 48842 entries, 0 to 48841\n",
      "Data columns (total 15 columns):\n",
      " #   Column          Non-Null Count  Dtype \n",
      "---  ------          --------------  ----- \n",
      " 0   age             48842 non-null  int64 \n",
      " 1   workclass       46043 non-null  object\n",
      " 2   fnlwgt          48842 non-null  int64 \n",
      " 3   education       48842 non-null  object\n",
      " 4   education-num   48842 non-null  int64 \n",
      " 5   marital-status  48842 non-null  object\n",
      " 6   occupation      46033 non-null  object\n",
      " 7   relationship    48842 non-null  object\n",
      " 8   race            48842 non-null  object\n",
      " 9   sex             48842 non-null  object\n",
      " 10  capitalgain     48842 non-null  int64 \n",
      " 11  capitalloss     48842 non-null  int64 \n",
      " 12  hoursperweek    48842 non-null  int64 \n",
      " 13  native-country  47985 non-null  object\n",
      " 14  class           48842 non-null  object\n",
      "dtypes: int64(6), object(9)\n",
      "memory usage: 5.6+ MB\n",
      "None\n",
      "Number of columns: 15 \n",
      " ['age', 'workclass', 'fnlwgt', 'education', 'education-num', 'marital-status', 'occupation', 'relationship', 'race', 'sex', 'capitalgain', 'capitalloss', 'hoursperweek', 'native-country', 'class']\n"
     ]
    }
   ],
   "source": [
    "# import the file path and import csv to dataframe\n",
    "file = 'adult.csv'\n",
    "df = pd.read_csv(file)\n",
    "\n",
    "print(df.info())\n",
    "\n",
    "columns = df.columns; columns_list= columns.tolist()\n",
    "num_columns = columns.nunique(); print(\"Number of columns:\", num_columns, \"\\n\", columns_list)"
   ]
  },
  {
   "cell_type": "markdown",
   "metadata": {
    "pycharm": {
     "name": "#%% md\n"
    }
   },
   "source": [
    "## Column Values"
   ]
  },
  {
   "cell_type": "code",
   "execution_count": 54,
   "metadata": {
    "pycharm": {
     "name": "#%%\n"
    }
   },
   "outputs": [
    {
     "name": "stdout",
     "output_type": "stream",
     "text": [
      "age\n",
      "[2 3 1 0 4] \n",
      "\n",
      "workclass\n",
      "['State-gov' 'Self-emp-not-inc' 'Private' 'Federal-gov' 'Local-gov' nan\n",
      " 'Self-emp-inc' 'Without-pay' 'Never-worked'] \n",
      "\n",
      "fnlwgt\n",
      "[ 77516  83311 215646 ... 173449  89686 350977] \n",
      "\n",
      "education\n",
      "['Bachelors' 'HS-grad' '11th' 'Masters' '9th' 'Some-college' 'Assoc-acdm'\n",
      " 'Assoc-voc' '7th-8th' 'Doctorate' 'Prof-school' '5th-6th' '10th'\n",
      " '1st-4th' 'Preschool' '12th'] \n",
      "\n",
      "education-num\n",
      "[13  9  7 14  5 10 12 11  4 16 15  3  6  2  1  8] \n",
      "\n",
      "marital-status\n",
      "['Never-married' 'Married-civ-spouse' 'Divorced' 'Married-spouse-absent'\n",
      " 'Separated' 'Married-AF-spouse' 'Widowed'] \n",
      "\n",
      "occupation\n",
      "['Adm-clerical' 'Exec-managerial' 'Handlers-cleaners' 'Prof-specialty'\n",
      " 'Other-service' 'Sales' 'Craft-repair' 'Transport-moving'\n",
      " 'Farming-fishing' 'Machine-op-inspct' 'Tech-support' nan\n",
      " 'Protective-serv' 'Armed-Forces' 'Priv-house-serv'] \n",
      "\n",
      "relationship\n",
      "['Not-in-family' 'Husband' 'Wife' 'Own-child' 'Unmarried' 'Other-relative'] \n",
      "\n",
      "race\n",
      "['White' 'Black' 'Asian-Pac-Islander' 'Amer-Indian-Eskimo' 'Other'] \n",
      "\n",
      "sex\n",
      "['Male' 'Female'] \n",
      "\n",
      "capitalgain\n",
      "[1 0 4 2 3] \n",
      "\n",
      "capitalloss\n",
      "[0 3 1 2 4] \n",
      "\n",
      "hoursperweek\n",
      "[2 0 3 4 1] \n",
      "\n",
      "native-country\n",
      "['United-States' 'Cuba' 'Jamaica' 'India' nan 'Mexico' 'South'\n",
      " 'Puerto-Rico' 'Honduras' 'England' 'Canada' 'Germany' 'Iran'\n",
      " 'Philippines' 'Italy' 'Poland' 'Columbia' 'Cambodia' 'Thailand' 'Ecuador'\n",
      " 'Laos' 'Taiwan' 'Haiti' 'Portugal' 'Dominican-Republic' 'El-Salvador'\n",
      " 'France' 'Guatemala' 'China' 'Japan' 'Yugoslavia' 'Peru'\n",
      " 'Outlying-US(Guam-USVI-etc)' 'Scotland' 'Trinadad&Tobago' 'Greece'\n",
      " 'Nicaragua' 'Vietnam' 'Hong' 'Ireland' 'Hungary' 'Holand-Netherlands'] \n",
      "\n",
      "class\n",
      "['<=50K' '>50K'] \n",
      "\n"
     ]
    }
   ],
   "source": [
    "for x in columns_list:\n",
    "    print(x) # print column name\n",
    "    variable_categories = df[x].unique(); print(variable_categories, \"\\n\")"
   ]
  },
  {
   "cell_type": "markdown",
   "metadata": {
    "pycharm": {
     "name": "#%% md\n"
    }
   },
   "source": [
    "# Examining the label \"class\"\n"
   ]
  },
  {
   "cell_type": "code",
   "execution_count": 55,
   "metadata": {
    "pycharm": {
     "name": "#%%\n"
    }
   },
   "outputs": [
    {
     "data": {
      "text/plain": "<AxesSubplot:title={'center':'Distinct Demographics and Income Class'}, xlabel='class', ylabel='count'>"
     },
     "execution_count": 55,
     "metadata": {},
     "output_type": "execute_result"
    },
    {
     "data": {
      "text/plain": "<Figure size 1080x576 with 1 Axes>",
      "image/png": "[encoded data removed]"
     },
     "metadata": {},
     "output_type": "display_data"
    }
   ],
   "source": [
    "# look at the frequency of each class in y\n",
    "rcParams['figure.figsize'] = 15,8\n",
    "sns.set_theme(style = \"darkgrid\", palette= \"husl\")\n",
    "\n",
    "plt.title(\"Distinct Demographics and Income Class\")\n",
    "sns.countplot(x=\"class\", data = df)"
   ]
  },
  {
   "cell_type": "markdown",
   "source": [
    "There is a large skew of labels. When visualizing data against class, it will be misleading by showing a strong relationship to <=50k."
   ],
   "metadata": {
    "collapsed": false,
    "pycharm": {
     "name": "#%% md\n"
    }
   }
  },
  {
   "cell_type": "markdown",
   "source": [
    "## Sector and Pay:\n"
   ],
   "metadata": {
    "collapsed": false,
    "pycharm": {
     "name": "#%% md\n"
    }
   }
  },
  {
   "cell_type": "code",
   "execution_count": 71,
   "outputs": [
    {
     "data": {
      "text/plain": "Text(0, 0.5, 'Count')"
     },
     "execution_count": 71,
     "metadata": {},
     "output_type": "execute_result"
    },
    {
     "data": {
      "text/plain": "<Figure size 1080x576 with 1 Axes>",
      "image/png": "[encoded data removed]"
     },
     "metadata": {},
     "output_type": "display_data"
    }
   ],
   "source": [
    "# Filter dataframe 1 and create three\n",
    "government_sector = df[(df['workclass'] == 'State-gov') | (df['workclass'] == 'Federal-gov') | (df['workclass'] == 'Local-gov')]\n",
    "private_sector = df[(df['workclass'] == 'Self-emp-not-inc') | (df['workclass'] == 'Self-emp-inc') | (df['workclass'] == 'Private')]\n",
    "no_pay = df[(df['workclass'] == 'Without-pay') | (df['workclass'] == 'Never-worked')]\n",
    "\n",
    "sector_data = {'Sector' : [\"Government\", \"Private\", \"No Pay\"], 'Count' : [len(government_sector), len(private_sector), len(no_pay)]}\n",
    "sector_df = pd.DataFrame(sector_data)\n",
    "\n",
    "sns.barplot(data = sector_df, x = 'Sector', y = 'Count')\n",
    "plt.title(\"Sector Type Count\", fontsize = 16)\n",
    "plt.xlabel(\"Sector\",fontsize = 14); plt.ylabel(\"Count\", fontsize = 14)"
   ],
   "metadata": {
    "collapsed": false,
    "pycharm": {
     "name": "#%%\n"
    }
   }
  },
  {
   "cell_type": "markdown",
   "source": [
    "As you can see,"
   ],
   "metadata": {
    "collapsed": false,
    "pycharm": {
     "name": "#%% md\n"
    }
   }
  },
  {
   "cell_type": "markdown",
   "metadata": {
    "pycharm": {
     "name": "#%% md\n"
    }
   },
   "source": [
    "## Occupation and Capital Gains"
   ]
  },
  {
   "cell_type": "code",
   "execution_count": 72,
   "outputs": [
    {
     "data": {
      "text/plain": "Text(0, 0.5, 'Occupation')"
     },
     "execution_count": 72,
     "metadata": {},
     "output_type": "execute_result"
    },
    {
     "data": {
      "text/plain": "<Figure size 1080x576 with 1 Axes>",
      "image/png": "[encoded data removed]"
     },
     "metadata": {},
     "output_type": "display_data"
    }
   ],
   "source": [
    "afford_capital = df[(df[\"capitalgain\"] != 0 )| (df[\"capitalloss\"] != 0)]\n",
    "sns.countplot(data = afford_capital, y = 'occupation')\n",
    "plt.title(\"Occupation with Capitial Gains and Losses\", fontsize = 16)\n",
    "plt.xlabel(\"Number of Observations\", fontsize = 14)\n",
    "plt.ylabel(\"Occupation\", fontsize = 14)"
   ],
   "metadata": {
    "collapsed": false,
    "pycharm": {
     "name": "#%%\n"
    }
   }
  },
  {
   "cell_type": "markdown",
   "source": [
    "# Creating DataFrames for the Classification Models\n",
    "Race, Sex, Native Country are the discriminatory features.\n",
    "\n",
    "Types of DataFrames:\n",
    "* Entire Dataframe\n",
    "* Include Discriminatory Features\n",
    "    * Exclude final weight\n",
    "* Exclude Discriminatory Features\n",
    "    * Include final weight, fnlwgt"
   ],
   "metadata": {
    "collapsed": false,
    "pycharm": {
     "name": "#%% md\n"
    }
   }
  },
  {
   "cell_type": "code",
   "execution_count": 75,
   "outputs": [
    {
     "name": "stdout",
     "output_type": "stream",
     "text": [
      "<class 'pandas.core.frame.DataFrame'>\n",
      "RangeIndex: 48842 entries, 0 to 48841\n",
      "Data columns (total 15 columns):\n",
      " #   Column          Non-Null Count  Dtype \n",
      "---  ------          --------------  ----- \n",
      " 0   age             48842 non-null  int64 \n",
      " 1   workclass       46043 non-null  object\n",
      " 2   fnlwgt          48842 non-null  int64 \n",
      " 3   education       48842 non-null  object\n",
      " 4   education-num   48842 non-null  int64 \n",
      " 5   marital-status  48842 non-null  object\n",
      " 6   occupation      46033 non-null  object\n",
      " 7   relationship    48842 non-null  object\n",
      " 8   race            48842 non-null  object\n",
      " 9   sex             48842 non-null  object\n",
      " 10  capitalgain     48842 non-null  int64 \n",
      " 11  capitalloss     48842 non-null  int64 \n",
      " 12  hoursperweek    48842 non-null  int64 \n",
      " 13  native-country  47985 non-null  object\n",
      " 14  class           48842 non-null  object\n",
      "dtypes: int64(6), object(9)\n",
      "memory usage: 5.6+ MB\n",
      "None\n",
      "age\n",
      "[2 3 1 0 4] \n",
      "\n",
      "workclass\n",
      "['State-gov' 'Self-emp-not-inc' 'Private' 'Federal-gov' 'Local-gov' nan\n",
      " 'Self-emp-inc' 'Without-pay' 'Never-worked'] \n",
      "\n",
      "fnlwgt\n",
      "[ 77516  83311 215646 ... 173449  89686 350977] \n",
      "\n",
      "education\n",
      "['Bachelors' 'HS-grad' '11th' 'Masters' '9th' 'Some-college' 'Assoc-acdm'\n",
      " 'Assoc-voc' '7th-8th' 'Doctorate' 'Prof-school' '5th-6th' '10th'\n",
      " '1st-4th' 'Preschool' '12th'] \n",
      "\n",
      "education-num\n",
      "[13  9  7 14  5 10 12 11  4 16 15  3  6  2  1  8] \n",
      "\n",
      "marital-status\n",
      "['Never-married' 'Married-civ-spouse' 'Divorced' 'Married-spouse-absent'\n",
      " 'Separated' 'Married-AF-spouse' 'Widowed'] \n",
      "\n",
      "occupation\n",
      "['Adm-clerical' 'Exec-managerial' 'Handlers-cleaners' 'Prof-specialty'\n",
      " 'Other-service' 'Sales' 'Craft-repair' 'Transport-moving'\n",
      " 'Farming-fishing' 'Machine-op-inspct' 'Tech-support' nan\n",
      " 'Protective-serv' 'Armed-Forces' 'Priv-house-serv'] \n",
      "\n",
      "relationship\n",
      "['Not-in-family' 'Husband' 'Wife' 'Own-child' 'Unmarried' 'Other-relative'] \n",
      "\n",
      "race\n",
      "['White' 'Black' 'Asian-Pac-Islander' 'Amer-Indian-Eskimo' 'Other'] \n",
      "\n",
      "sex\n",
      "['Male' 'Female'] \n",
      "\n",
      "capitalgain\n",
      "[1 0 4 2 3] \n",
      "\n",
      "capitalloss\n",
      "[0 3 1 2 4] \n",
      "\n",
      "hoursperweek\n",
      "[2 0 3 4 1] \n",
      "\n",
      "native-country\n",
      "['United-States' 'Cuba' 'Jamaica' 'India' nan 'Mexico' 'South'\n",
      " 'Puerto-Rico' 'Honduras' 'England' 'Canada' 'Germany' 'Iran'\n",
      " 'Philippines' 'Italy' 'Poland' 'Columbia' 'Cambodia' 'Thailand' 'Ecuador'\n",
      " 'Laos' 'Taiwan' 'Haiti' 'Portugal' 'Dominican-Republic' 'El-Salvador'\n",
      " 'France' 'Guatemala' 'China' 'Japan' 'Yugoslavia' 'Peru'\n",
      " 'Outlying-US(Guam-USVI-etc)' 'Scotland' 'Trinadad&Tobago' 'Greece'\n",
      " 'Nicaragua' 'Vietnam' 'Hong' 'Ireland' 'Hungary' 'Holand-Netherlands'] \n",
      "\n",
      "class\n",
      "['<=50K' '>50K'] \n",
      "\n"
     ]
    }
   ],
   "source": [
    "# Helper Block #\n",
    "print(df.info())\n",
    "\n",
    "for x in columns_list:\n",
    "    print(x) # print column name\n",
    "    variable_categories = df[x].unique(); print(variable_categories, \"\\n\")"
   ],
   "metadata": {
    "collapsed": false,
    "pycharm": {
     "name": "#%%\n"
    }
   }
  },
  {
   "cell_type": "code",
   "execution_count": 92,
   "outputs": [],
   "source": [
    "# don' delete this block #\n",
    "\n",
    "# start with the base DataFrame and drop nan value\n",
    "\n",
    "base_df = df.copy(); base_df.dropna() # remove missing values, did not affect the number of observation\n",
    "\n",
    "# We should replace broad categories\n",
    "\n",
    "# 1. Workclass feature\n",
    "private = ['Self-emp-not-inc', 'Self-emp-inc', 'Private']\n",
    "public = ['State-gov', 'Federal-gov', 'Local-gov']\n",
    "other = ['Without-pay', 'Never-worked']\n",
    "\n",
    "base_df = base_df.replace(to_replace = private, value = 'Private')\n",
    "base_df = base_df.replace(to_replace = public, value = 'Public')\n",
    "base_df = base_df.replace(to_replace= other, value = \"other\")\n",
    "\n",
    "# 2. Categorize education feature (Thanks Will!)\n",
    "\n",
    "did_not_grad_hs = ['Preschool','1st-4th','5th-6th','7th-8th','9th','10th', '11th', '12th']\n",
    "no_uni_grad = ['HS-grad']\n",
    "some_college = ['Some-college']\n",
    "assoc_grad = ['Assoc-acdm','Assoc-voc']\n",
    "advanced_degree = ['Masters', 'Doctorate']\n",
    "prof_school = ['Prof-school']\n",
    "\n",
    "base_df = base_df.replace(to_replace = did_not_grad_hs, value = 'No H.S. Diploma')\n",
    "base_df = base_df.replace(to_replace = no_uni_grad, value = \"H.S. Diploma\")\n",
    "base_df = base_df.replace(to_replace = assoc_grad, value = \"Junior College Experience\")\n",
    "base_df = base_df.replace(to_replace = advanced_degree, value = \"Master's/PhD\")\n",
    "base_df = base_df.replace(to_replace = some_college, value = \"Some College. No Degree\")\n",
    "base_df = base_df.replace(to_replace = prof_school, value = \"Professional School\")\n",
    "\n",
    "# 3. Categorize marital status\n",
    "\n",
    "base_df = base_df.replace(['Married-civ-spouse','Married-AF-spouse','Married-spouse-absent'],'Currently Married')\n",
    "base_df = base_df.replace(['Divorced','Separated','Widowed'], \"Married Prior\")\n",
    "base_df = base_df.replace('Never-married', 'Has not married')\n",
    "\n",
    "# 4. Categorize Occupation\n",
    "\n",
    "executives = ['Exec-managerial']\n",
    "adv_profession = ['Prof-specialty']\n",
    "back_office = ['Admclerical', 'Sales']\n",
    "protection = ['Protective-serv', 'Armed-Forces']\n",
    "tech = ['Tech-support', 'Machine-op-inspect']\n",
    "labor = ['Handlers-cleaners', 'Craft-repair', 'Transport-moving', 'Farming-fishing']\n",
    "other = ['Other-service', 'Priv-house-serv']\n",
    "\n",
    "base_df = base_df.replace(executives, 'exec')\n",
    "base_df = base_df.replace(adv_profession, 'prof')\n",
    "base_df = base_df.replace(back_office, 'back_office')\n",
    "base_df = base_df.replace(protection, 'protection')\n",
    "base_df = base_df.replace(tech, 'tech')\n",
    "base_df = base_df.replace(labor, 'labor')\n",
    "base_df = base_df.replace(other, 'other')\n",
    "\n",
    "# 5. Categorize Native Country\n",
    "us_native = ['United-States']\n",
    "non_us_native = base_df['native-country'].unique().tolist(); non_us_native.remove('United-States')\n",
    "\n",
    "base_df = base_df.replace(us_native,  'US')\n",
    "base_df = base_df.replace(non_us_native,  'foreign')"
   ],
   "metadata": {
    "collapsed": false,
    "pycharm": {
     "name": "#%%\n"
    }
   }
  },
  {
   "cell_type": "markdown",
   "metadata": {
    "pycharm": {
     "name": "#%% md\n"
    }
   },
   "source": [
    "# Model Development\n",
    "\n",
    "There will be two data set: one containing discriminatory features and not containing discriminatory features. The model is generated using classification algorithms.\n",
    "\n",
    "Will\n",
    "* K-Nearest\n",
    "* Naive Bayes\n",
    "* Logistic Regression\n",
    "* Random Forest\n",
    "\n",
    "Uy\n",
    "* Support Vector Matching\n",
    "* Linear Discrimination Analysis\n",
    "* Decision Tree\n",
    "\n",
    "[Types of Algorithms](https://stackabuse.com/overview-of-classification-methods-in-python-with-scikit-learn/)\n",
    "[Classification](https://scikit-learn.org/stable/)"
   ]
  },
  {
   "cell_type": "markdown",
   "source": [
    "## DIscriminatory and Non-Discriminatory Model Here"
   ],
   "metadata": {
    "collapsed": false,
    "pycharm": {
     "name": "#%% md\n"
    }
   }
  },
  {
   "cell_type": "code",
   "execution_count": 41,
   "metadata": {
    "pycharm": {
     "name": "#%%\n"
    }
   },
   "outputs": [],
   "source": [
    "df3['native-country'].fillna('Not Given', inplace = True)\n",
    "df3['occupation'].fillna('Unknown', inplace = True)"
   ]
  },
  {
   "cell_type": "code",
   "execution_count": 42,
   "metadata": {
    "pycharm": {
     "name": "#%%\n"
    }
   },
   "outputs": [
    {
     "data": {
      "text/plain": "age               0\nworkclass         0\neducation         0\nmarital-status    0\noccupation        0\nrelationship      0\nrace              0\nsex               0\ncapitalgain       0\ncapitalloss       0\nhoursperweek      0\nnative-country    0\nclass             0\ndtype: int64"
     },
     "execution_count": 42,
     "metadata": {},
     "output_type": "execute_result"
    }
   ],
   "source": [
    "df3.isnull().sum()"
   ]
  },
  {
   "cell_type": "code",
   "execution_count": 43,
   "metadata": {
    "pycharm": {
     "name": "#%%\n"
    }
   },
   "outputs": [
    {
     "name": "stdout",
     "output_type": "stream",
     "text": [
      "age\n",
      "[2 3 1 0 4] \n",
      "\n",
      "workclass\n",
      "['State/Local govt employee' 'Self-Employed' 'Private'\n",
      " 'Federal govt employee' 'Unknown' 'Without-pay' 'Never-worked'] \n",
      "\n",
      "education\n",
      "['Bachelors' 'H.S. Diploma' 'No H.S. Diploma' \"Master's/PhD\"\n",
      " 'Some College. No Degree' 'Junior College Experience'\n",
      " 'Professional School'] \n",
      "\n",
      "marital-status\n",
      "['Has not married' 'Currently Married' 'Married Prior'] \n",
      "\n",
      "occupation\n",
      "['Adm-clerical' 'Exec-managerial' 'Handlers-cleaners' 'Prof-specialty'\n",
      " 'Other-service' 'Sales' 'Craft-repair' 'Transport-moving'\n",
      " 'Farming-fishing' 'Machine-op-inspct' 'Tech-support' 'Unknown'\n",
      " 'Protective-serv' 'Armed-Forces' 'Priv-house-serv'] \n",
      "\n",
      "relationship\n",
      "['Not-in-family' 'Husband' 'Wife' 'Own-child' 'Unmarried' 'Other-relative'] \n",
      "\n",
      "race\n",
      "['White' 'Black' 'Asian-Pac-Islander' 'Amer-Indian-Eskimo' 'Other'] \n",
      "\n",
      "sex\n",
      "['Male' 'Female'] \n",
      "\n",
      "capitalgain\n",
      "[1 0 4 2 3] \n",
      "\n",
      "capitalloss\n",
      "[0 3 1 2 4] \n",
      "\n",
      "hoursperweek\n",
      "[2 0 3 4 1] \n",
      "\n",
      "native-country\n",
      "['United-States' 'Cuba' 'Jamaica' 'India' 'Not Given' 'Mexico' 'South'\n",
      " 'Puerto-Rico' 'Honduras' 'England' 'Canada' 'Germany' 'Iran'\n",
      " 'Philippines' 'Italy' 'Poland' 'Columbia' 'Cambodia' 'Thailand' 'Ecuador'\n",
      " 'Laos' 'Taiwan' 'Haiti' 'Portugal' 'Dominican-Republic' 'El-Salvador'\n",
      " 'France' 'Guatemala' 'China' 'Japan' 'Yugoslavia' 'Peru'\n",
      " 'Outlying-US(Guam-USVI-etc)' 'Scotland' 'Trinadad&Tobago' 'Greece'\n",
      " 'Nicaragua' 'Vietnam' 'Hong' 'Ireland' 'Hungary' 'Holand-Netherlands'] \n",
      "\n",
      "class\n",
      "[0 1] \n",
      "\n"
     ]
    }
   ],
   "source": [
    "columns1 = df3.columns; columns_list1= columns1.tolist()\n",
    "num_columns1 = columns1.nunique()\n",
    "\n",
    "for x in columns_list1:\n",
    "    print(x) # print column name\n",
    "    variable_categories1 = df3[x].unique(); print(variable_categories1, \"\\n\")"
   ]
  },
  {
   "cell_type": "markdown",
   "metadata": {
    "pycharm": {
     "name": "#%% md\n"
    }
   },
   "source": [
    "###Model Building"
   ]
  },
  {
   "cell_type": "code",
   "execution_count": 44,
   "metadata": {
    "pycharm": {
     "name": "#%%\n"
    }
   },
   "outputs": [],
   "source": [
    "X = df3.drop([\"class\"], axis =1)\n",
    "y = df3[\"class\"]"
   ]
  },
  {
   "cell_type": "code",
   "execution_count": 45,
   "metadata": {
    "pycharm": {
     "name": "#%%\n"
    }
   },
   "outputs": [],
   "source": [
    "from sklearn.preprocessing import StandardScaler, LabelEncoder"
   ]
  },
  {
   "cell_type": "code",
   "execution_count": 46,
   "metadata": {
    "pycharm": {
     "name": "#%%\n"
    }
   },
   "outputs": [
    {
     "data": {
      "text/plain": "   age  workclass  education  marital-status  occupation  relationship  race  \\\n0    2          4          0               1           0             1     4   \n1    3          3          0               0           3             0     4   \n2    2          2          1               2           5             1     4   \n3    3          2          4               0           5             0     2   \n4    1          2          0               0           9             5     2   \n\n   sex  capitalgain  capitalloss  hoursperweek  native-country  class  \n0    1            1            0             2              39      0  \n1    1            0            0             0              39      0  \n2    1            0            0             2              39      0  \n3    1            0            0             2              39      0  \n4    0            0            0             2               4      0  ",
      "text/html": "<div>\n<style scoped>\n    .dataframe tbody tr th:only-of-type {\n        vertical-align: middle;\n    }\n\n    .dataframe tbody tr th {\n        vertical-align: top;\n    }\n\n    .dataframe thead th {\n        text-align: right;\n    }\n</style>\n<table border=\"1\" class=\"dataframe\">\n  <thead>\n    <tr style=\"text-align: right;\">\n      <th></th>\n      <th>age</th>\n      <th>workclass</th>\n      <th>education</th>\n      <th>marital-status</th>\n      <th>occupation</th>\n      <th>relationship</th>\n      <th>race</th>\n      <th>sex</th>\n      <th>capitalgain</th>\n      <th>capitalloss</th>\n      <th>hoursperweek</th>\n      <th>native-country</th>\n      <th>class</th>\n    </tr>\n  </thead>\n  <tbody>\n    <tr>\n      <th>0</th>\n      <td>2</td>\n      <td>4</td>\n      <td>0</td>\n      <td>1</td>\n      <td>0</td>\n      <td>1</td>\n      <td>4</td>\n      <td>1</td>\n      <td>1</td>\n      <td>0</td>\n      <td>2</td>\n      <td>39</td>\n      <td>0</td>\n    </tr>\n    <tr>\n      <th>1</th>\n      <td>3</td>\n      <td>3</td>\n      <td>0</td>\n      <td>0</td>\n      <td>3</td>\n      <td>0</td>\n      <td>4</td>\n      <td>1</td>\n      <td>0</td>\n      <td>0</td>\n      <td>0</td>\n      <td>39</td>\n      <td>0</td>\n    </tr>\n    <tr>\n      <th>2</th>\n      <td>2</td>\n      <td>2</td>\n      <td>1</td>\n      <td>2</td>\n      <td>5</td>\n      <td>1</td>\n      <td>4</td>\n      <td>1</td>\n      <td>0</td>\n      <td>0</td>\n      <td>2</td>\n      <td>39</td>\n      <td>0</td>\n    </tr>\n    <tr>\n      <th>3</th>\n      <td>3</td>\n      <td>2</td>\n      <td>4</td>\n      <td>0</td>\n      <td>5</td>\n      <td>0</td>\n      <td>2</td>\n      <td>1</td>\n      <td>0</td>\n      <td>0</td>\n      <td>2</td>\n      <td>39</td>\n      <td>0</td>\n    </tr>\n    <tr>\n      <th>4</th>\n      <td>1</td>\n      <td>2</td>\n      <td>0</td>\n      <td>0</td>\n      <td>9</td>\n      <td>5</td>\n      <td>2</td>\n      <td>0</td>\n      <td>0</td>\n      <td>0</td>\n      <td>2</td>\n      <td>4</td>\n      <td>0</td>\n    </tr>\n  </tbody>\n</table>\n</div>"
     },
     "execution_count": 46,
     "metadata": {},
     "output_type": "execute_result"
    }
   ],
   "source": [
    "df4 = df3.copy()\n",
    "df4 = df4.apply(LabelEncoder().fit_transform)\n",
    "df4.head()"
   ]
  },
  {
   "cell_type": "code",
   "execution_count": 47,
   "metadata": {
    "pycharm": {
     "name": "#%%\n"
    }
   },
   "outputs": [],
   "source": [
    "ss = StandardScaler().fit(df4.drop('class', axis=1))"
   ]
  },
  {
   "cell_type": "code",
   "execution_count": 48,
   "metadata": {
    "pycharm": {
     "name": "#%%\n"
    }
   },
   "outputs": [],
   "source": [
    "X = ss.transform(df4.drop('class', axis=1))\n",
    "y = df3['class']"
   ]
  },
  {
   "cell_type": "code",
   "execution_count": 24,
   "metadata": {
    "pycharm": {
     "name": "#%%\n"
    }
   },
   "outputs": [],
   "source": [
    "from sklearn.model_selection import train_test_split\n",
    "X_train, X_test, y_train, y_test = train_test_split(X,y,test_size = 0.3,random_state = 40)"
   ]
  }
 ],
 "metadata": {
  "kernelspec": {
   "display_name": "Python 3 (ipykernel)",
   "language": "python",
   "name": "python3"
  },
  "language_info": {
   "codemirror_mode": {
    "name": "ipython",
    "version": 3
   },
   "file_extension": ".py",
   "mimetype": "text/x-python",
   "name": "python",
   "nbconvert_exporter": "python",
   "pygments_lexer": "ipython3",
   "version": "3.10.1"
  }
 },
 "nbformat": 4,
 "nbformat_minor": 1
}